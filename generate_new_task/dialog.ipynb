{
 "cells": [
  {
   "cell_type": "code",
   "execution_count": 22,
   "id": "d7933907",
   "metadata": {},
   "outputs": [],
   "source": [
    "from datasets import load_dataset_builder, load_dataset\n",
    "ds_builder = load_dataset_builder(\"woz_dialogue\", \"de\")"
   ]
  },
  {
   "cell_type": "code",
   "execution_count": 23,
   "id": "7813d4fe",
   "metadata": {},
   "outputs": [
    {
     "data": {
      "text/plain": [
       "{'dialogue_idx': Value(dtype='int32', id=None),\n",
       " 'dialogue': [{'turn_label': Sequence(feature=Sequence(feature=Value(dtype='string', id=None), length=-1, id=None), length=-1, id=None),\n",
       "   'asr': Sequence(feature=Sequence(feature=Value(dtype='string', id=None), length=-1, id=None), length=-1, id=None),\n",
       "   'system_transcript': Value(dtype='string', id=None),\n",
       "   'turn_idx': Value(dtype='int32', id=None),\n",
       "   'belief_state': [{'slots': Sequence(feature=Sequence(feature=Value(dtype='string', id=None), length=-1, id=None), length=-1, id=None),\n",
       "     'act': Value(dtype='string', id=None)}],\n",
       "   'transcript': Value(dtype='string', id=None),\n",
       "   'system_acts': Sequence(feature=Sequence(feature=Value(dtype='string', id=None), length=-1, id=None), length=-1, id=None)}]}"
      ]
     },
     "execution_count": 23,
     "metadata": {},
     "output_type": "execute_result"
    }
   ],
   "source": [
    "ds_builder.info.features"
   ]
  },
  {
   "cell_type": "code",
   "execution_count": 19,
   "id": "d22beef6",
   "metadata": {},
   "outputs": [
    {
     "name": "stdout",
     "output_type": "stream",
     "text": [
      "Downloading and preparing dataset woz_dialogue/de to /root/.cache/huggingface/datasets/woz_dialogue/de/1.0.0/76925075509adce1db84ae1a24a97559df22e2dd16f4ece4f7dfd66f4fbfee8f...\n"
     ]
    },
    {
     "name": "stderr",
     "output_type": "stream",
     "text": [
      "Downloading data files:   0%|                                        | 0/3 [00:00<?, ?it/s]\n",
      "Downloading data: 3.88MB [00:00, 77.9MB/s]                                                 \u001b[A\n",
      "Downloading data files:  33%|██████████▋                     | 1/3 [00:00<00:01,  1.22it/s]\n",
      "Downloading data: 1.23MB [00:00, 49.0MB/s]                                                 \u001b[A\n",
      "Downloading data files:  67%|█████████████████████▎          | 2/3 [00:01<00:00,  1.31it/s]\n",
      "Downloading data: 2.51MB [00:00, 111MB/s]                                                  \u001b[A\n",
      "Downloading data files: 100%|████████████████████████████████| 3/3 [00:02<00:00,  1.32it/s]\n",
      "                                                                                           \r"
     ]
    },
    {
     "name": "stdout",
     "output_type": "stream",
     "text": [
      "Dataset woz_dialogue downloaded and prepared to /root/.cache/huggingface/datasets/woz_dialogue/de/1.0.0/76925075509adce1db84ae1a24a97559df22e2dd16f4ece4f7dfd66f4fbfee8f. Subsequent calls will reuse this data.\n"
     ]
    },
    {
     "name": "stderr",
     "output_type": "stream",
     "text": [
      "100%|███████████████████████████████████████████████████████| 3/3 [00:00<00:00, 358.20it/s]\n"
     ]
    }
   ],
   "source": [
    "dataset = load_dataset(\"woz_dialogue\", \"de\")"
   ]
  },
  {
   "cell_type": "code",
   "execution_count": 61,
   "id": "cb45cda0",
   "metadata": {},
   "outputs": [
    {
     "data": {
      "text/plain": [
       "{'inform': {'essen': ['eritreanisch',\n",
       "   'chinesisch',\n",
       "   'deutsch',\n",
       "   'europäisch',\n",
       "   'australasian',\n",
       "   'mediterranisches',\n",
       "   'türkisch',\n",
       "   'persisch',\n",
       "   'italiänisch',\n",
       "   'spanisch',\n",
       "   'marokkanisch',\n",
       "   'britische',\n",
       "   'mexikanisch',\n",
       "   'schwedisch',\n",
       "   'vietnamesisch',\n",
       "   'englisch',\n",
       "   'kreativ',\n",
       "   'modern europäisch',\n",
       "   'es ist egal',\n",
       "   'schottisch',\n",
       "   'gastwirtschaft',\n",
       "   'nordamerikanisch',\n",
       "   'indisch',\n",
       "   'dänisch',\n",
       "   'international',\n",
       "   'portugiesisch',\n",
       "   'afrikanisch',\n",
       "   'ungarisch',\n",
       "   'malaysisch',\n",
       "   'koreanisch',\n",
       "   'belgisch',\n",
       "   'östereichisch',\n",
       "   'thailändisch',\n",
       "   'ungewöhnlich',\n",
       "   'libanesisch',\n",
       "   'jamaikanisch',\n",
       "   'toskanisch',\n",
       "   'orientalischer asiat',\n",
       "   'französisch',\n",
       "   'japanisch',\n",
       "   'meeresfrüchte',\n",
       "   'kantonesische',\n",
       "   'steakhaus',\n",
       "   'vegetarisch',\n",
       "   'karibik',\n",
       "   'gemischt',\n",
       "   'traditionell',\n",
       "   'kanapees',\n",
       "   'halal',\n",
       "   'griechisch',\n",
       "   'australische',\n",
       "   'brasilianisch',\n",
       "   'koscher',\n",
       "   'asiatische pfanne',\n",
       "   'korsika',\n",
       "   'afghanisch',\n",
       "   'irisch',\n",
       "   'welt',\n",
       "   'russisch',\n",
       "   'baskisch',\n",
       "   'polisch',\n",
       "   'schweizerisch',\n",
       "   'weihnachten',\n",
       "   'skandinavisch',\n",
       "   'venezianisch',\n",
       "   'walisisch',\n",
       "   'katalan',\n",
       "   'singapurisch',\n",
       "   'rumänisch',\n",
       "   'fusion',\n",
       "   'polynesisch',\n",
       "   'grill',\n",
       "   'bistro',\n",
       "   'indonesisch'],\n",
       "  'gegend': ['osten', 'es ist egal', 'westen', 'norden', 'süden', 'zentrum'],\n",
       "  'preisklasse': ['teuer', 'mäßig', 'es ist egal', 'billig']},\n",
       " 'request': {'slot': ['postleitzahl',\n",
       "   'telefon',\n",
       "   'adresse',\n",
       "   'gegend',\n",
       "   'preisklasse',\n",
       "   'essen',\n",
       "   'name']}}"
      ]
     },
     "execution_count": 61,
     "metadata": {},
     "output_type": "execute_result"
    }
   ],
   "source": [
    "def get_domain(dataset):\n",
    "    acts = {}\n",
    "    for dialog in dataset:\n",
    "        for turn in dialog[\"dialogue\"]:\n",
    "            for belief in turn[\"belief_state\"]:\n",
    "                act = belief[\"act\"]\n",
    "                if act not in acts.keys():\n",
    "                    acts[act] = {}\n",
    "                for slots in belief[\"slots\"]:\n",
    "                    key = slots[0]\n",
    "                    value = slots[1]\n",
    "                    if key not in acts[act].keys():\n",
    "                        acts[act][key] = []\n",
    "                    if value not in acts[act][key]:\n",
    "                        acts[act][key].append(value)\n",
    "\n",
    "    return acts\n",
    "\n",
    "domain = get_domain(dataset[\"train\"])\n",
    "\n",
    "#slots = get_slots(dataset[\"train\"])\n",
    "domain"
   ]
  },
  {
   "cell_type": "code",
   "execution_count": 43,
   "id": "0a565047",
   "metadata": {},
   "outputs": [
    {
     "data": {
      "text/plain": [
       "{'dialogue_idx': 800,\n",
       " 'dialogue': [{'turn_label': [['gegend', 'osten'],\n",
       "    ['preisklasse', 'billig'],\n",
       "    ['request', 'telefon'],\n",
       "    ['request', 'postleitzahl']],\n",
       "   'asr': [['Wie sind Telefonnummer und Postleitzahl eines billigen Restaurants im Ostteil der Stadt?']],\n",
       "   'system_transcript': '',\n",
       "   'turn_idx': 0,\n",
       "   'belief_state': [{'slots': [['slot', 'telefon']], 'act': 'request'},\n",
       "    {'slots': [['slot', 'postleitzahl']], 'act': 'request'},\n",
       "    {'slots': [['preisklasse', 'billig']], 'act': 'inform'},\n",
       "    {'slots': [['gegend', 'osten']], 'act': 'inform'}],\n",
       "   'transcript': 'Wie sind Telefonnummer und Postleitzahl eines billigen Restaurants im Ostteil der Stadt?',\n",
       "   'system_acts': []},\n",
       "  {'turn_label': [],\n",
       "   'asr': [['Vielen herzlichen Dank!']],\n",
       "   'system_transcript': 'There is The Missing Sock. They serve international food on the east side and are cheap. Their phone number is 01223 812660 and postcode is C.B 25, 9 A.Q.',\n",
       "   'turn_idx': 1,\n",
       "   'belief_state': [{'slots': [['preisklasse', 'billig']], 'act': 'inform'},\n",
       "    {'slots': [['gegend', 'osten']], 'act': 'inform'}],\n",
       "   'transcript': 'Vielen herzlichen Dank!',\n",
       "   'system_acts': []},\n",
       "  {'turn_label': [],\n",
       "   'asr': [['Nein, danke.']],\n",
       "   'system_transcript': 'Is there anything else I can help you with today? ',\n",
       "   'turn_idx': 2,\n",
       "   'belief_state': [{'slots': [['preisklasse', 'billig']], 'act': 'inform'},\n",
       "    {'slots': [['gegend', 'osten']], 'act': 'inform'}],\n",
       "   'transcript': 'Nein, danke.',\n",
       "   'system_acts': []}]}"
      ]
     },
     "execution_count": 43,
     "metadata": {},
     "output_type": "execute_result"
    }
   ],
   "source": [
    "dataset[\"test\"][0]"
   ]
  }
 ],
 "metadata": {
  "kernelspec": {
   "display_name": "Python 3 (ipykernel)",
   "language": "python",
   "name": "python3"
  },
  "language_info": {
   "codemirror_mode": {
    "name": "ipython",
    "version": 3
   },
   "file_extension": ".py",
   "mimetype": "text/x-python",
   "name": "python",
   "nbconvert_exporter": "python",
   "pygments_lexer": "ipython3",
   "version": "3.10.6"
  }
 },
 "nbformat": 4,
 "nbformat_minor": 5
}
