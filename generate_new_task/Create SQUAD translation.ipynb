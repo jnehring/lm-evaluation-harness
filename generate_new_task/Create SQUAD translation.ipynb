{
 "cells": [
  {
   "cell_type": "code",
   "execution_count": 2,
   "id": "aa672255",
   "metadata": {},
   "outputs": [
    {
     "name": "stderr",
     "output_type": "stream",
     "text": [
      "/usr/local/lib/python3.10/dist-packages/tqdm/auto.py:21: TqdmWarning: IProgress not found. Please update jupyter and ipywidgets. See https://ipywidgets.readthedocs.io/en/stable/user_install.html\n",
      "  from .autonotebook import tqdm as notebook_tqdm\n"
     ]
    }
   ],
   "source": [
    "from datasets import load_dataset_builder, load_dataset\n",
    "import numpy as np\n",
    "import pandas as pd\n",
    "import json"
   ]
  },
  {
   "cell_type": "code",
   "execution_count": 12,
   "id": "e354fff9",
   "metadata": {},
   "outputs": [
    {
     "name": "stderr",
     "output_type": "stream",
     "text": [
      "Found cached dataset squad_v2 (/root/.cache/huggingface/datasets/squad_v2/squad_v2/2.0.0/09187c73c1b837c95d9a249cd97c2c3f1cebada06efe667b4427714b27639b1d)\n"
     ]
    }
   ],
   "source": [
    "ds_builder = load_dataset_builder(\"squad_v2\")\n",
    "dataset = load_dataset(\"squad_v2\", split=\"validation\")"
   ]
  },
  {
   "cell_type": "code",
   "execution_count": 130,
   "id": "d46bb7bd",
   "metadata": {},
   "outputs": [],
   "source": [
    "all_ids = list(filter(lambda i: len(dataset[i][\"answers\"][\"text\"])>0, range(len(dataset))))\n"
   ]
  },
  {
   "cell_type": "code",
   "execution_count": 118,
   "id": "1a84ffb0",
   "metadata": {},
   "outputs": [
    {
     "data": {
      "text/plain": [
       "5928"
      ]
     },
     "execution_count": 118,
     "metadata": {},
     "output_type": "execute_result"
    }
   ],
   "source": [
    "filtered_dataset = np.array(list(filter(lambda x : len(x[\"answers\"][\"text\"])>0, dataset)))\n",
    "len(filtered_dataset)"
   ]
  },
  {
   "cell_type": "code",
   "execution_count": 114,
   "id": "9cf3441c",
   "metadata": {},
   "outputs": [
    {
     "data": {
      "text/plain": [
       "{'id': '56ddde6b9a695914005b9628',\n",
       " 'title': 'Normans',\n",
       " 'context': 'The Normans (Norman: Nourmands; French: Normands; Latin: Normanni) were the people who in the 10th and 11th centuries gave their name to Normandy, a region in France. They were descended from Norse (\"Norman\" comes from \"Norseman\") raiders and pirates from Denmark, Iceland and Norway who, under their leader Rollo, agreed to swear fealty to King Charles III of West Francia. Through generations of assimilation and mixing with the native Frankish and Roman-Gaulish populations, their descendants would gradually merge with the Carolingian-based cultures of West Francia. The distinct cultural and ethnic identity of the Normans emerged initially in the first half of the 10th century, and it continued to evolve over the succeeding centuries.',\n",
       " 'question': 'In what country is Normandy located?',\n",
       " 'answers': {'text': ['France', 'France', 'France', 'France'],\n",
       "  'answer_start': [159, 159, 159, 159]}}"
      ]
     },
     "execution_count": 114,
     "metadata": {},
     "output_type": "execute_result"
    }
   ],
   "source": [
    "filtered_dataset[0]"
   ]
  },
  {
   "cell_type": "code",
   "execution_count": 131,
   "id": "e9c22f32",
   "metadata": {},
   "outputs": [],
   "source": [
    "np.random.seed(42)\n",
    "all_ids = list(filter(lambda i: len(dataset[i][\"answers\"][\"text\"])>0, range(len(dataset))))\n",
    "subsampled_ids = np.random.choice(all_ids, size=100, replace=False)"
   ]
  },
  {
   "cell_type": "code",
   "execution_count": 125,
   "id": "155c3a6e",
   "metadata": {},
   "outputs": [
    {
     "data": {
      "text/plain": [
       "{'id': '56ddde6b9a695914005b9628',\n",
       " 'title': 'Normans',\n",
       " 'context': 'The Normans (Norman: Nourmands; French: Normands; Latin: Normanni) were the people who in the 10th and 11th centuries gave their name to Normandy, a region in France. They were descended from Norse (\"Norman\" comes from \"Norseman\") raiders and pirates from Denmark, Iceland and Norway who, under their leader Rollo, agreed to swear fealty to King Charles III of West Francia. Through generations of assimilation and mixing with the native Frankish and Roman-Gaulish populations, their descendants would gradually merge with the Carolingian-based cultures of West Francia. The distinct cultural and ethnic identity of the Normans emerged initially in the first half of the 10th century, and it continued to evolve over the succeeding centuries.',\n",
       " 'question': 'In what country is Normandy located?',\n",
       " 'answers': {'text': ['France', 'France', 'France', 'France'],\n",
       "  'answer_start': [159, 159, 159, 159]}}"
      ]
     },
     "execution_count": 125,
     "metadata": {},
     "output_type": "execute_result"
    }
   ],
   "source": [
    "df = pd.DataFrame(filtered_dataset[subsampled_ids])\n",
    "filtered_dataset[0]"
   ]
  },
  {
   "cell_type": "code",
   "execution_count": 137,
   "id": "dc79a8ef",
   "metadata": {},
   "outputs": [
    {
     "data": {
      "text/plain": [
       "dict"
      ]
     },
     "execution_count": 137,
     "metadata": {},
     "output_type": "execute_result"
    }
   ],
   "source": [
    "type(pd.DataFrame(dataset[subsampled_ids]).iloc[0][\"answers\"])"
   ]
  },
  {
   "cell_type": "code",
   "execution_count": 141,
   "id": "0dad2cdb",
   "metadata": {
    "scrolled": true
   },
   "outputs": [
    {
     "name": "stdout",
     "output_type": "stream",
     "text": [
      "3\n",
      "5\n",
      "3\n",
      "5\n",
      "3\n",
      "3\n",
      "3\n",
      "3\n",
      "3\n",
      "3\n",
      "3\n",
      "3\n",
      "3\n",
      "4\n",
      "5\n",
      "3\n",
      "3\n",
      "3\n",
      "2\n",
      "3\n",
      "5\n",
      "3\n",
      "3\n",
      "3\n",
      "4\n",
      "4\n",
      "3\n",
      "3\n",
      "3\n",
      "3\n",
      "3\n",
      "3\n",
      "2\n",
      "3\n",
      "3\n",
      "3\n",
      "5\n",
      "5\n",
      "3\n",
      "4\n",
      "5\n",
      "3\n",
      "5\n",
      "3\n",
      "4\n",
      "3\n",
      "4\n",
      "5\n",
      "5\n",
      "3\n",
      "3\n",
      "3\n",
      "5\n",
      "3\n",
      "3\n",
      "5\n",
      "3\n",
      "3\n",
      "3\n",
      "3\n",
      "3\n",
      "3\n",
      "5\n",
      "3\n",
      "5\n",
      "3\n",
      "3\n",
      "3\n",
      "3\n",
      "3\n",
      "3\n",
      "3\n",
      "3\n",
      "3\n",
      "5\n",
      "3\n",
      "3\n",
      "4\n",
      "3\n",
      "3\n",
      "4\n",
      "3\n",
      "3\n",
      "3\n",
      "3\n",
      "3\n",
      "5\n",
      "4\n",
      "3\n",
      "3\n",
      "3\n",
      "3\n",
      "3\n",
      "3\n",
      "3\n",
      "5\n",
      "5\n",
      "3\n",
      "3\n",
      "3\n"
     ]
    }
   ],
   "source": [
    "df = pd.DataFrame(dataset[subsampled_ids])\n",
    "\n",
    "converted_context = []\n",
    "for ix, row in df.iterrows():\n",
    "    \n",
    "    # deduplication of answer spans\n",
    "    new_answers = {\n",
    "        \"answer_start\": [],\n",
    "        \"text\": []\n",
    "    }\n",
    "    \n",
    "    for j in range(len(row[\"answers\"][\"answer_start\"])):\n",
    "        is_dup = False\n",
    "        for k in range(len(new_answers[\"text\"])):\n",
    "            if new_answers[\"answer_start\"][k] == row[\"answers\"][\"answer_start\"][j] and new_answers[\"text\"][k] == row[\"answers\"][\"text\"][j]:\n",
    "                is_dup = True\n",
    "        if not is_dup:\n",
    "            new_answers[\"answer_start\"].append(row[\"answers\"][\"answer_start\"][j])\n",
    "            new_answers[\"text\"].append(row[\"answers\"][\"text\"][j])\n",
    "\n",
    "    row[\"answers\"] = new_answers\n",
    "    \n",
    "    \n",
    "    new_context = row[\"context\"]\n",
    "    insertions = []\n",
    "    for i in range(len(row[\"answers\"][\"text\"])):\n",
    "\n",
    "        answer_span = row[\"answers\"][\"text\"][i]\n",
    "        start_pos = row[\"answers\"][\"answer_start\"][i]\n",
    "        \n",
    "        insertion_pos_start = start_pos        \n",
    "        insertion_pos_end = start_pos + len(answer_span)\n",
    "        insertion_index = int(len(insertions)/2)\n",
    "        \n",
    "        insertion_str_start = f\"<{insertion_index}>\"\n",
    "        insertion_str_end = f\"</{insertion_index}>\"\n",
    "                \n",
    "        for ins in insertions:\n",
    "            if ins[0]<=insertion_pos_start:\n",
    "                insertion_pos_start += len(ins[1])\n",
    "            if ins[0]<=insertion_pos_end:\n",
    "                insertion_pos_end += len(ins[1])\n",
    "        \n",
    "        new_context = \"\".join([new_context[0:insertion_pos_start],\n",
    "            insertion_str_start,\n",
    "            new_context[insertion_pos_start:insertion_pos_end],\n",
    "            insertion_str_end,\n",
    "            new_context[insertion_pos_end:]\n",
    "        ])\n",
    "        \n",
    "        insertions.append((insertion_pos_start, insertion_str_start))\n",
    "        insertions.append((insertion_pos_end, insertion_str_end))\n",
    "\n",
    "    converted_context.append(new_context)\n",
    "    \n",
    "df[\"context_with_markup\"] = converted_context\n",
    "df.to_csv(\"squad_with_markup.csv\")"
   ]
  },
  {
   "cell_type": "code",
   "execution_count": 5,
   "id": "41c05957",
   "metadata": {},
   "outputs": [
    {
     "name": "stdout",
     "output_type": "stream",
     "text": [
      "In World War II, it was recognised that the Rhine would present a formidable natural obstacle to the invasion of Germany, by the Western Allies. The Rhine bridge at Arnhem, immortalized in the book, A Bridge Too Far and the film, was a central focus of the battle for Arnhem, during the failed Operation Market Garden of September 1944. The bridges at Nijmegen, over the Waal distributary of the Rhine, were also an objective of Operation Market Garden. In a separate operation, the Ludendorff Bridge, crossing the Rhine at Remagen, became famous, when U.S. forces were able to capture it intact – much to their own surprise – after the Germans failed to demolish it. This also became the subject of a film, The Bridge at Remagen. Seven Days to the River Rhine was a Warsaw Pact war plan for an invasion of Western Europe during the Cold War.\n",
      "{'answer_start': [483], 'text': ['Ludendorff Bridge']}\n"
     ]
    }
   ],
   "source": [
    "df = pd.read_csv(\"squad_translated.csv\").drop(columns=[\"Unnamed: 10\"])\n",
    "r = df.iloc[0]\n",
    "print(r[\"context\"])\n",
    "print(r[\"answers\"])"
   ]
  },
  {
   "cell_type": "code",
   "execution_count": null,
   "id": "1d785020",
   "metadata": {},
   "outputs": [],
   "source": []
  }
 ],
 "metadata": {
  "kernelspec": {
   "display_name": "Python 3 (ipykernel)",
   "language": "python",
   "name": "python3"
  },
  "language_info": {
   "codemirror_mode": {
    "name": "ipython",
    "version": 3
   },
   "file_extension": ".py",
   "mimetype": "text/x-python",
   "name": "python",
   "nbconvert_exporter": "python",
   "pygments_lexer": "ipython3",
   "version": "3.10.6"
  }
 },
 "nbformat": 4,
 "nbformat_minor": 5
}
